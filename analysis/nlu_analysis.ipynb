{
 "cells": [
  {
   "cell_type": "markdown",
   "metadata": {},
   "source": [
    "# Entity Classification"
   ]
  },
  {
   "cell_type": "code",
   "execution_count": 1,
   "metadata": {
    "ExecuteTime": {
     "start_time": "2023-03-31T11:10:32.053086Z",
     "end_time": "2023-03-31T11:10:32.055611Z"
    }
   },
   "outputs": [],
   "source": [
    "import json\n",
    "import pandas as pd\n",
    "import seaborn as sns"
   ]
  },
  {
   "cell_type": "code",
   "execution_count": 2,
   "metadata": {
    "ExecuteTime": {
     "start_time": "2023-03-31T11:10:32.054942Z",
     "end_time": "2023-03-31T11:10:32.060530Z"
    }
   },
   "outputs": [],
   "source": [
    "with open('results/DIETClassifier_report.json', 'r') as f:\n",
    "    entity_report = json.load(f)\n",
    "with open('results/DIETClassifier_errors.json', 'r') as f:\n",
    "    entity_errors = json.load(f)"
   ]
  },
  {
   "cell_type": "code",
   "execution_count": 3,
   "metadata": {
    "ExecuteTime": {
     "start_time": "2023-03-31T11:10:32.062954Z",
     "end_time": "2023-03-31T11:10:32.064273Z"
    }
   },
   "outputs": [],
   "source": [
    "dict_report = {'Name': [], 'Precision': [], 'Recall': [], 'F1-Score': []}\n",
    "colors_report = []\n",
    "for key, value in entity_report.items():\n",
    "    if key != 'accuracy':\n",
    "        dict_report['Name'].append(key)\n",
    "        dict_report['Precision'].append(value['precision'])\n",
    "        dict_report['Recall'].append(value['recall'])\n",
    "        dict_report['F1-Score'].append(value['f1-score'])"
   ]
  },
  {
   "cell_type": "code",
   "execution_count": 4,
   "metadata": {
    "ExecuteTime": {
     "start_time": "2023-03-31T11:10:32.065248Z",
     "end_time": "2023-03-31T11:10:32.164022Z"
    }
   },
   "outputs": [
    {
     "data": {
      "text/plain": "<pandas.io.formats.style.Styler at 0x7f5d970fe2f0>",
      "text/html": "<style type=\"text/css\">\n#T_e5938_row0_col1, #T_e5938_row0_col2, #T_e5938_row0_col3, #T_e5938_row2_col2 {\n  background-color: #f3f0f0;\n  color: #000000;\n}\n#T_e5938_row1_col1, #T_e5938_row5_col3 {\n  background-color: #f6a8a8;\n  color: #000000;\n}\n#T_e5938_row1_col2 {\n  background-color: #fe1a1a;\n  color: #f1f1f1;\n}\n#T_e5938_row1_col3 {\n  background-color: #fc4141;\n  color: #f1f1f1;\n}\n#T_e5938_row2_col1 {\n  background-color: #f4d4d4;\n  color: #000000;\n}\n#T_e5938_row2_col3 {\n  background-color: #f3e4e4;\n  color: #000000;\n}\n#T_e5938_row3_col1 {\n  background-color: #f5c4c4;\n  color: #000000;\n}\n#T_e5938_row3_col2 {\n  background-color: #f97373;\n  color: #f1f1f1;\n}\n#T_e5938_row3_col3 {\n  background-color: #f89090;\n  color: #000000;\n}\n#T_e5938_row4_col1, #T_e5938_row4_col2, #T_e5938_row4_col3 {\n  background-color: #ff0000;\n  color: #f1f1f1;\n}\n#T_e5938_row5_col1 {\n  background-color: #f5bdbd;\n  color: #000000;\n}\n#T_e5938_row5_col2, #T_e5938_row7_col2 {\n  background-color: #f79a9a;\n  color: #000000;\n}\n#T_e5938_row6_col1 {\n  background-color: #f7a3a3;\n  color: #000000;\n}\n#T_e5938_row6_col2 {\n  background-color: #f97c7c;\n  color: #f1f1f1;\n}\n#T_e5938_row6_col3 {\n  background-color: #f88888;\n  color: #f1f1f1;\n}\n#T_e5938_row7_col1 {\n  background-color: #f6b5b5;\n  color: #000000;\n}\n#T_e5938_row7_col3 {\n  background-color: #f7a2a2;\n  color: #000000;\n}\n</style>\n<table id=\"T_e5938\">\n  <thead>\n    <tr>\n      <th class=\"blank level0\" >&nbsp;</th>\n      <th id=\"T_e5938_level0_col0\" class=\"col_heading level0 col0\" >Name</th>\n      <th id=\"T_e5938_level0_col1\" class=\"col_heading level0 col1\" >Precision</th>\n      <th id=\"T_e5938_level0_col2\" class=\"col_heading level0 col2\" >Recall</th>\n      <th id=\"T_e5938_level0_col3\" class=\"col_heading level0 col3\" >F1-Score</th>\n    </tr>\n  </thead>\n  <tbody>\n    <tr>\n      <th id=\"T_e5938_level0_row0\" class=\"row_heading level0 row0\" >0</th>\n      <td id=\"T_e5938_row0_col0\" class=\"data row0 col0\" >meat_type</td>\n      <td id=\"T_e5938_row0_col1\" class=\"data row0 col1\" >1.000000</td>\n      <td id=\"T_e5938_row0_col2\" class=\"data row0 col2\" >1.000000</td>\n      <td id=\"T_e5938_row0_col3\" class=\"data row0 col3\" >1.000000</td>\n    </tr>\n    <tr>\n      <th id=\"T_e5938_level0_row1\" class=\"row_heading level0 row1\" >1</th>\n      <td id=\"T_e5938_row1_col0\" class=\"data row1 col0\" >consequence_category</td>\n      <td id=\"T_e5938_row1_col1\" class=\"data row1 col1\" >0.875000</td>\n      <td id=\"T_e5938_row1_col2\" class=\"data row1 col2\" >0.500000</td>\n      <td id=\"T_e5938_row1_col3\" class=\"data row1 col3\" >0.636364</td>\n    </tr>\n    <tr>\n      <th id=\"T_e5938_level0_row2\" class=\"row_heading level0 row2\" >2</th>\n      <td id=\"T_e5938_row2_col0\" class=\"data row2 col0\" >greenhouse_gas</td>\n      <td id=\"T_e5938_row2_col1\" class=\"data row2 col1\" >0.950000</td>\n      <td id=\"T_e5938_row2_col2\" class=\"data row2 col2\" >1.000000</td>\n      <td id=\"T_e5938_row2_col3\" class=\"data row2 col3\" >0.974359</td>\n    </tr>\n    <tr>\n      <th id=\"T_e5938_level0_row3\" class=\"row_heading level0 row3\" >3</th>\n      <td id=\"T_e5938_row3_col0\" class=\"data row3 col0\" >influence_type_on_climate</td>\n      <td id=\"T_e5938_row3_col1\" class=\"data row3 col1\" >0.923077</td>\n      <td id=\"T_e5938_row3_col2\" class=\"data row3 col2\" >0.705882</td>\n      <td id=\"T_e5938_row3_col3\" class=\"data row3 col3\" >0.800000</td>\n    </tr>\n    <tr>\n      <th id=\"T_e5938_level0_row4\" class=\"row_heading level0 row4\" >4</th>\n      <td id=\"T_e5938_row4_col0\" class=\"data row4 col0\" >topic</td>\n      <td id=\"T_e5938_row4_col1\" class=\"data row4 col1\" >0.583333</td>\n      <td id=\"T_e5938_row4_col2\" class=\"data row4 col2\" >0.437500</td>\n      <td id=\"T_e5938_row4_col3\" class=\"data row4 col3\" >0.500000</td>\n    </tr>\n    <tr>\n      <th id=\"T_e5938_level0_row5\" class=\"row_heading level0 row5\" >5</th>\n      <td id=\"T_e5938_row5_col0\" class=\"data row5 col0\" >micro avg</td>\n      <td id=\"T_e5938_row5_col1\" class=\"data row5 col1\" >0.912088</td>\n      <td id=\"T_e5938_row5_col2\" class=\"data row5 col2\" >0.798077</td>\n      <td id=\"T_e5938_row5_col3\" class=\"data row5 col3\" >0.851282</td>\n    </tr>\n    <tr>\n      <th id=\"T_e5938_level0_row6\" class=\"row_heading level0 row6\" >6</th>\n      <td id=\"T_e5938_row6_col0\" class=\"data row6 col0\" >macro avg</td>\n      <td id=\"T_e5938_row6_col1\" class=\"data row6 col1\" >0.866282</td>\n      <td id=\"T_e5938_row6_col2\" class=\"data row6 col2\" >0.728676</td>\n      <td id=\"T_e5938_row6_col3\" class=\"data row6 col3\" >0.782145</td>\n    </tr>\n    <tr>\n      <th id=\"T_e5938_level0_row7\" class=\"row_heading level0 row7\" >7</th>\n      <td id=\"T_e5938_row7_col0\" class=\"data row7 col0\" >weighted avg</td>\n      <td id=\"T_e5938_row7_col1\" class=\"data row7 col1\" >0.897362</td>\n      <td id=\"T_e5938_row7_col2\" class=\"data row7 col2\" >0.798077</td>\n      <td id=\"T_e5938_row7_col3\" class=\"data row7 col3\" >0.836749</td>\n    </tr>\n  </tbody>\n</table>\n"
     },
     "execution_count": 4,
     "metadata": {},
     "output_type": "execute_result"
    }
   ],
   "source": [
    "df_entity_report = pd.DataFrame(dict_report)\n",
    "\n",
    "cm = sns.light_palette(\"red\", reverse=True, as_cmap=True)\n",
    "df_entity_report.style.background_gradient(cmap = cm)"
   ]
  },
  {
   "cell_type": "markdown",
   "source": [
    "# Intent Classification"
   ],
   "metadata": {
    "collapsed": false
   }
  },
  {
   "cell_type": "code",
   "execution_count": 5,
   "outputs": [],
   "source": [
    "with open('results/intent_report.json', 'r') as f:\n",
    "    intent_report = json.load(f)\n",
    "with open('results/intent_errors.json', 'r') as f:\n",
    "    intent_errors = json.load(f)"
   ],
   "metadata": {
    "collapsed": false,
    "ExecuteTime": {
     "start_time": "2023-03-31T11:10:32.155911Z",
     "end_time": "2023-03-31T11:10:32.200057Z"
    }
   }
  },
  {
   "cell_type": "markdown",
   "source": [
    "![intent histogram](results/intent_histogram.png)"
   ],
   "metadata": {
    "collapsed": false
   }
  },
  {
   "cell_type": "markdown",
   "source": [
    "![intent confusion matrix](results/intent_confusion_matrix.png)"
   ],
   "metadata": {
    "collapsed": false
   }
  },
  {
   "cell_type": "code",
   "execution_count": 6,
   "outputs": [
    {
     "name": "stdout",
     "output_type": "stream",
     "text": [
      "Accuracy: 0.7875647668393783\n"
     ]
    }
   ],
   "source": [
    "print(f\"Accuracy: {intent_report['accuracy']}\")"
   ],
   "metadata": {
    "collapsed": false,
    "ExecuteTime": {
     "start_time": "2023-03-31T11:10:32.200358Z",
     "end_time": "2023-03-31T11:10:32.202945Z"
    }
   }
  },
  {
   "cell_type": "code",
   "execution_count": 7,
   "outputs": [
    {
     "name": "stdout",
     "output_type": "stream",
     "text": [
      "Weighted AVG-> Precision: 0.8846663859693423, Recall: 0.7875647668393783, F1-Score: 0.8217642113572042\n"
     ]
    }
   ],
   "source": [
    "\n",
    "print(f\"Weighted AVG-> Precision: {intent_report['weighted avg']['precision']}, Recall: {intent_report['weighted avg']['recall']}, F1-Score: {intent_report['weighted avg']['f1-score']}\")"
   ],
   "metadata": {
    "collapsed": false,
    "ExecuteTime": {
     "start_time": "2023-03-31T11:10:32.200640Z",
     "end_time": "2023-03-31T11:10:32.203354Z"
    }
   }
  },
  {
   "cell_type": "code",
   "execution_count": 8,
   "outputs": [
    {
     "name": "stdout",
     "output_type": "stream",
     "text": [
      "Number of trainings samples: 386\n"
     ]
    }
   ],
   "source": [
    "print(f\"Number of trainings samples: {intent_report['weighted avg']['support']}\")"
   ],
   "metadata": {
    "collapsed": false,
    "ExecuteTime": {
     "start_time": "2023-03-31T11:10:32.201613Z",
     "end_time": "2023-03-31T11:10:32.203591Z"
    }
   }
  },
  {
   "cell_type": "code",
   "execution_count": 9,
   "outputs": [],
   "source": [
    "intent_report_dict = {'intent': [], 'Precision': [], 'Recall': [], 'F1-Score': [], 'Support': [], 'Confused': []}\n",
    "for key, value in intent_report.items():\n",
    "    if key != 'accuracy' and key != 'macro avg' and key != 'weighted avg' and key != 'micro avg':\n",
    "        intent_report_dict['intent'].append(key)\n",
    "        intent_report_dict['Precision'].append(value['precision'])\n",
    "        intent_report_dict['Recall'].append(value['recall'])\n",
    "        intent_report_dict['F1-Score'].append(value['f1-score'])\n",
    "        intent_report_dict['Support'].append(value['support'])\n",
    "\n",
    "        intent_report_dict['Confused'].append(value['confused_with'].keys())\n",
    "df_intent_report = pd.DataFrame(intent_report_dict)"
   ],
   "metadata": {
    "collapsed": false,
    "ExecuteTime": {
     "start_time": "2023-03-31T11:10:32.201850Z",
     "end_time": "2023-03-31T11:10:32.203703Z"
    }
   }
  },
  {
   "cell_type": "code",
   "execution_count": 10,
   "outputs": [
    {
     "name": "stdout",
     "output_type": "stream",
     "text": [
      "Number of intents: 29\n"
     ]
    }
   ],
   "source": [
    "print(f\"Number of intents: {len(df_intent_report)}\")"
   ],
   "metadata": {
    "collapsed": false,
    "ExecuteTime": {
     "start_time": "2023-03-31T11:10:32.202079Z",
     "end_time": "2023-03-31T11:10:32.203954Z"
    }
   }
  },
  {
   "cell_type": "code",
   "execution_count": 11,
   "outputs": [
    {
     "data": {
      "text/plain": "                                               intent  Precision    Recall  \\\n8                             question_can_i_eat_meat   0.750000  0.600000   \n24                                               deny   1.000000  0.166667   \n13                                  want_to_know_more   0.750000  1.000000   \n7                                         greet_again   0.875000  0.875000   \n6   question_what_contribution_does_diet_make_to_c...   1.000000  1.000000   \n10                 question_temp_record_is_unreliable   1.000000  0.900000   \n17                      question_activism_vs_politics   0.857143  0.600000   \n15                question_can_we_stop_climate_change   1.000000  0.600000   \n14    question_is_the_climate_change_caused_by_humans   0.909091  0.909091   \n21                     question_models_are_unreliable   0.900000  0.818182   \n5              question_why_does_the_politics_nothing   0.875000  0.636364   \n19                           question_is_climate_real   0.900000  0.818182   \n1                           what_can_i_do_tipps_topic   0.800000  0.333333   \n22                                question_is_the_sun   0.900000  0.750000   \n11                               question_its_not_bad   0.833333  0.833333   \n12                    question_climate_changed_before   0.846154  0.916667   \n28           question_why_is_meat_bad_for_the_climate   0.692308  0.692308   \n3                     question_what_is_climate_change   0.875000  0.538462   \n2                     question_what_food_should_i_eat   0.800000  0.923077   \n16                            question_what_can_i_ask   0.928571  0.928571   \n20                                      i_eat_no_meat   0.866667  0.866667   \n9                              question_what_can_i_do   0.705882  0.750000   \n0                      question_effect_to_the_climate   0.833333  0.882353   \n18                 question_what_are_greenhouse_gases   1.000000  0.736842   \n23                              i_some_times_eat_meat   0.894737  0.894737   \n4     question_how_much_does_meat_pollute_the_climate   0.900000  0.900000   \n25                question_what_causes_climate_change   0.944444  0.739130   \n26  question_what_are_the_consequences_of_climate_...   0.952381  0.869565   \n27                                     i_eat_lot_meat   0.909091  0.833333   \n\n    F1-Score  Support                                           Confused  \n8   0.666667        5  (question_why_is_meat_bad_for_the_climate, que...  \n24  0.285714        6  (question_climate_changed_before, question_why...  \n13  0.857143        6                                                 ()  \n7   0.875000        8                    (question_activism_vs_politics)  \n6   1.000000       10                                                 ()  \n10  0.947368       10                                   (language_error)  \n17  0.705882       10                                   (language_error)  \n15  0.750000       10  (language_error, question_is_the_climate_chang...  \n14  0.909091       11         (question_why_is_meat_bad_for_the_climate)  \n21  0.857143       11             (language_error, question_its_not_bad)  \n5   0.736842       11                                   (language_error)  \n19  0.857143       11  (question_what_is_climate_change, language_error)  \n1   0.470588       12           (question_what_can_i_do, language_error)  \n22  0.818182       12             (language_error, question_its_not_bad)  \n11  0.833333       12  (language_error, question_what_are_the_consequ...  \n12  0.880000       12                              (question_is_the_sun)  \n28  0.692308       13  (question_how_much_does_meat_pollute_the_clima...  \n3   0.666667       13  (language_error, question_what_causes_climate_...  \n2   0.857143       13                   (question_effect_to_the_climate)  \n16  0.928571       14                           (question_what_can_i_do)  \n20  0.866667       15  (question_why_is_meat_bad_for_the_climate, i_s...  \n9   0.727273       16        (language_error, what_can_i_do_tipps_topic)  \n0   0.857143       17                  (question_what_food_should_i_eat)  \n18  0.848485       19                                   (language_error)  \n23  0.894737       19                                   (i_eat_lot_meat)  \n4   0.900000       20  (question_why_is_meat_bad_for_the_climate, lan...  \n25  0.829268       23                                   (language_error)  \n26  0.909091       23                                   (language_error)  \n27  0.869565       24                       (i_eat_no_meat, greet_again)  ",
      "text/html": "<div>\n<style scoped>\n    .dataframe tbody tr th:only-of-type {\n        vertical-align: middle;\n    }\n\n    .dataframe tbody tr th {\n        vertical-align: top;\n    }\n\n    .dataframe thead th {\n        text-align: right;\n    }\n</style>\n<table border=\"1\" class=\"dataframe\">\n  <thead>\n    <tr style=\"text-align: right;\">\n      <th></th>\n      <th>intent</th>\n      <th>Precision</th>\n      <th>Recall</th>\n      <th>F1-Score</th>\n      <th>Support</th>\n      <th>Confused</th>\n    </tr>\n  </thead>\n  <tbody>\n    <tr>\n      <th>8</th>\n      <td>question_can_i_eat_meat</td>\n      <td>0.750000</td>\n      <td>0.600000</td>\n      <td>0.666667</td>\n      <td>5</td>\n      <td>(question_why_is_meat_bad_for_the_climate, que...</td>\n    </tr>\n    <tr>\n      <th>24</th>\n      <td>deny</td>\n      <td>1.000000</td>\n      <td>0.166667</td>\n      <td>0.285714</td>\n      <td>6</td>\n      <td>(question_climate_changed_before, question_why...</td>\n    </tr>\n    <tr>\n      <th>13</th>\n      <td>want_to_know_more</td>\n      <td>0.750000</td>\n      <td>1.000000</td>\n      <td>0.857143</td>\n      <td>6</td>\n      <td>()</td>\n    </tr>\n    <tr>\n      <th>7</th>\n      <td>greet_again</td>\n      <td>0.875000</td>\n      <td>0.875000</td>\n      <td>0.875000</td>\n      <td>8</td>\n      <td>(question_activism_vs_politics)</td>\n    </tr>\n    <tr>\n      <th>6</th>\n      <td>question_what_contribution_does_diet_make_to_c...</td>\n      <td>1.000000</td>\n      <td>1.000000</td>\n      <td>1.000000</td>\n      <td>10</td>\n      <td>()</td>\n    </tr>\n    <tr>\n      <th>10</th>\n      <td>question_temp_record_is_unreliable</td>\n      <td>1.000000</td>\n      <td>0.900000</td>\n      <td>0.947368</td>\n      <td>10</td>\n      <td>(language_error)</td>\n    </tr>\n    <tr>\n      <th>17</th>\n      <td>question_activism_vs_politics</td>\n      <td>0.857143</td>\n      <td>0.600000</td>\n      <td>0.705882</td>\n      <td>10</td>\n      <td>(language_error)</td>\n    </tr>\n    <tr>\n      <th>15</th>\n      <td>question_can_we_stop_climate_change</td>\n      <td>1.000000</td>\n      <td>0.600000</td>\n      <td>0.750000</td>\n      <td>10</td>\n      <td>(language_error, question_is_the_climate_chang...</td>\n    </tr>\n    <tr>\n      <th>14</th>\n      <td>question_is_the_climate_change_caused_by_humans</td>\n      <td>0.909091</td>\n      <td>0.909091</td>\n      <td>0.909091</td>\n      <td>11</td>\n      <td>(question_why_is_meat_bad_for_the_climate)</td>\n    </tr>\n    <tr>\n      <th>21</th>\n      <td>question_models_are_unreliable</td>\n      <td>0.900000</td>\n      <td>0.818182</td>\n      <td>0.857143</td>\n      <td>11</td>\n      <td>(language_error, question_its_not_bad)</td>\n    </tr>\n    <tr>\n      <th>5</th>\n      <td>question_why_does_the_politics_nothing</td>\n      <td>0.875000</td>\n      <td>0.636364</td>\n      <td>0.736842</td>\n      <td>11</td>\n      <td>(language_error)</td>\n    </tr>\n    <tr>\n      <th>19</th>\n      <td>question_is_climate_real</td>\n      <td>0.900000</td>\n      <td>0.818182</td>\n      <td>0.857143</td>\n      <td>11</td>\n      <td>(question_what_is_climate_change, language_error)</td>\n    </tr>\n    <tr>\n      <th>1</th>\n      <td>what_can_i_do_tipps_topic</td>\n      <td>0.800000</td>\n      <td>0.333333</td>\n      <td>0.470588</td>\n      <td>12</td>\n      <td>(question_what_can_i_do, language_error)</td>\n    </tr>\n    <tr>\n      <th>22</th>\n      <td>question_is_the_sun</td>\n      <td>0.900000</td>\n      <td>0.750000</td>\n      <td>0.818182</td>\n      <td>12</td>\n      <td>(language_error, question_its_not_bad)</td>\n    </tr>\n    <tr>\n      <th>11</th>\n      <td>question_its_not_bad</td>\n      <td>0.833333</td>\n      <td>0.833333</td>\n      <td>0.833333</td>\n      <td>12</td>\n      <td>(language_error, question_what_are_the_consequ...</td>\n    </tr>\n    <tr>\n      <th>12</th>\n      <td>question_climate_changed_before</td>\n      <td>0.846154</td>\n      <td>0.916667</td>\n      <td>0.880000</td>\n      <td>12</td>\n      <td>(question_is_the_sun)</td>\n    </tr>\n    <tr>\n      <th>28</th>\n      <td>question_why_is_meat_bad_for_the_climate</td>\n      <td>0.692308</td>\n      <td>0.692308</td>\n      <td>0.692308</td>\n      <td>13</td>\n      <td>(question_how_much_does_meat_pollute_the_clima...</td>\n    </tr>\n    <tr>\n      <th>3</th>\n      <td>question_what_is_climate_change</td>\n      <td>0.875000</td>\n      <td>0.538462</td>\n      <td>0.666667</td>\n      <td>13</td>\n      <td>(language_error, question_what_causes_climate_...</td>\n    </tr>\n    <tr>\n      <th>2</th>\n      <td>question_what_food_should_i_eat</td>\n      <td>0.800000</td>\n      <td>0.923077</td>\n      <td>0.857143</td>\n      <td>13</td>\n      <td>(question_effect_to_the_climate)</td>\n    </tr>\n    <tr>\n      <th>16</th>\n      <td>question_what_can_i_ask</td>\n      <td>0.928571</td>\n      <td>0.928571</td>\n      <td>0.928571</td>\n      <td>14</td>\n      <td>(question_what_can_i_do)</td>\n    </tr>\n    <tr>\n      <th>20</th>\n      <td>i_eat_no_meat</td>\n      <td>0.866667</td>\n      <td>0.866667</td>\n      <td>0.866667</td>\n      <td>15</td>\n      <td>(question_why_is_meat_bad_for_the_climate, i_s...</td>\n    </tr>\n    <tr>\n      <th>9</th>\n      <td>question_what_can_i_do</td>\n      <td>0.705882</td>\n      <td>0.750000</td>\n      <td>0.727273</td>\n      <td>16</td>\n      <td>(language_error, what_can_i_do_tipps_topic)</td>\n    </tr>\n    <tr>\n      <th>0</th>\n      <td>question_effect_to_the_climate</td>\n      <td>0.833333</td>\n      <td>0.882353</td>\n      <td>0.857143</td>\n      <td>17</td>\n      <td>(question_what_food_should_i_eat)</td>\n    </tr>\n    <tr>\n      <th>18</th>\n      <td>question_what_are_greenhouse_gases</td>\n      <td>1.000000</td>\n      <td>0.736842</td>\n      <td>0.848485</td>\n      <td>19</td>\n      <td>(language_error)</td>\n    </tr>\n    <tr>\n      <th>23</th>\n      <td>i_some_times_eat_meat</td>\n      <td>0.894737</td>\n      <td>0.894737</td>\n      <td>0.894737</td>\n      <td>19</td>\n      <td>(i_eat_lot_meat)</td>\n    </tr>\n    <tr>\n      <th>4</th>\n      <td>question_how_much_does_meat_pollute_the_climate</td>\n      <td>0.900000</td>\n      <td>0.900000</td>\n      <td>0.900000</td>\n      <td>20</td>\n      <td>(question_why_is_meat_bad_for_the_climate, lan...</td>\n    </tr>\n    <tr>\n      <th>25</th>\n      <td>question_what_causes_climate_change</td>\n      <td>0.944444</td>\n      <td>0.739130</td>\n      <td>0.829268</td>\n      <td>23</td>\n      <td>(language_error)</td>\n    </tr>\n    <tr>\n      <th>26</th>\n      <td>question_what_are_the_consequences_of_climate_...</td>\n      <td>0.952381</td>\n      <td>0.869565</td>\n      <td>0.909091</td>\n      <td>23</td>\n      <td>(language_error)</td>\n    </tr>\n    <tr>\n      <th>27</th>\n      <td>i_eat_lot_meat</td>\n      <td>0.909091</td>\n      <td>0.833333</td>\n      <td>0.869565</td>\n      <td>24</td>\n      <td>(i_eat_no_meat, greet_again)</td>\n    </tr>\n  </tbody>\n</table>\n</div>"
     },
     "execution_count": 11,
     "metadata": {},
     "output_type": "execute_result"
    }
   ],
   "source": [
    "df_intent_report_support = df_intent_report.sort_values(by=['Support'])\n",
    "df_intent_report_support"
   ],
   "metadata": {
    "collapsed": false,
    "ExecuteTime": {
     "start_time": "2023-03-31T11:10:32.203292Z",
     "end_time": "2023-03-31T11:10:32.204555Z"
    }
   }
  },
  {
   "cell_type": "code",
   "execution_count": 12,
   "outputs": [
    {
     "data": {
      "text/plain": "                                               intent  Precision    Recall  \\\n24                                               deny   1.000000  0.166667   \n1                           what_can_i_do_tipps_topic   0.800000  0.333333   \n8                             question_can_i_eat_meat   0.750000  0.600000   \n3                     question_what_is_climate_change   0.875000  0.538462   \n28           question_why_is_meat_bad_for_the_climate   0.692308  0.692308   \n17                      question_activism_vs_politics   0.857143  0.600000   \n9                              question_what_can_i_do   0.705882  0.750000   \n5              question_why_does_the_politics_nothing   0.875000  0.636364   \n15                question_can_we_stop_climate_change   1.000000  0.600000   \n22                                question_is_the_sun   0.900000  0.750000   \n25                question_what_causes_climate_change   0.944444  0.739130   \n11                               question_its_not_bad   0.833333  0.833333   \n18                 question_what_are_greenhouse_gases   1.000000  0.736842   \n0                      question_effect_to_the_climate   0.833333  0.882353   \n2                     question_what_food_should_i_eat   0.800000  0.923077   \n13                                  want_to_know_more   0.750000  1.000000   \n19                           question_is_climate_real   0.900000  0.818182   \n21                     question_models_are_unreliable   0.900000  0.818182   \n20                                      i_eat_no_meat   0.866667  0.866667   \n27                                     i_eat_lot_meat   0.909091  0.833333   \n7                                         greet_again   0.875000  0.875000   \n12                    question_climate_changed_before   0.846154  0.916667   \n23                              i_some_times_eat_meat   0.894737  0.894737   \n4     question_how_much_does_meat_pollute_the_climate   0.900000  0.900000   \n26  question_what_are_the_consequences_of_climate_...   0.952381  0.869565   \n14    question_is_the_climate_change_caused_by_humans   0.909091  0.909091   \n16                            question_what_can_i_ask   0.928571  0.928571   \n10                 question_temp_record_is_unreliable   1.000000  0.900000   \n6   question_what_contribution_does_diet_make_to_c...   1.000000  1.000000   \n\n    F1-Score  Support                                           Confused  \n24  0.285714        6  (question_climate_changed_before, question_why...  \n1   0.470588       12           (question_what_can_i_do, language_error)  \n8   0.666667        5  (question_why_is_meat_bad_for_the_climate, que...  \n3   0.666667       13  (language_error, question_what_causes_climate_...  \n28  0.692308       13  (question_how_much_does_meat_pollute_the_clima...  \n17  0.705882       10                                   (language_error)  \n9   0.727273       16        (language_error, what_can_i_do_tipps_topic)  \n5   0.736842       11                                   (language_error)  \n15  0.750000       10  (language_error, question_is_the_climate_chang...  \n22  0.818182       12             (language_error, question_its_not_bad)  \n25  0.829268       23                                   (language_error)  \n11  0.833333       12  (language_error, question_what_are_the_consequ...  \n18  0.848485       19                                   (language_error)  \n0   0.857143       17                  (question_what_food_should_i_eat)  \n2   0.857143       13                   (question_effect_to_the_climate)  \n13  0.857143        6                                                 ()  \n19  0.857143       11  (question_what_is_climate_change, language_error)  \n21  0.857143       11             (language_error, question_its_not_bad)  \n20  0.866667       15  (question_why_is_meat_bad_for_the_climate, i_s...  \n27  0.869565       24                       (i_eat_no_meat, greet_again)  \n7   0.875000        8                    (question_activism_vs_politics)  \n12  0.880000       12                              (question_is_the_sun)  \n23  0.894737       19                                   (i_eat_lot_meat)  \n4   0.900000       20  (question_why_is_meat_bad_for_the_climate, lan...  \n26  0.909091       23                                   (language_error)  \n14  0.909091       11         (question_why_is_meat_bad_for_the_climate)  \n16  0.928571       14                           (question_what_can_i_do)  \n10  0.947368       10                                   (language_error)  \n6   1.000000       10                                                 ()  ",
      "text/html": "<div>\n<style scoped>\n    .dataframe tbody tr th:only-of-type {\n        vertical-align: middle;\n    }\n\n    .dataframe tbody tr th {\n        vertical-align: top;\n    }\n\n    .dataframe thead th {\n        text-align: right;\n    }\n</style>\n<table border=\"1\" class=\"dataframe\">\n  <thead>\n    <tr style=\"text-align: right;\">\n      <th></th>\n      <th>intent</th>\n      <th>Precision</th>\n      <th>Recall</th>\n      <th>F1-Score</th>\n      <th>Support</th>\n      <th>Confused</th>\n    </tr>\n  </thead>\n  <tbody>\n    <tr>\n      <th>24</th>\n      <td>deny</td>\n      <td>1.000000</td>\n      <td>0.166667</td>\n      <td>0.285714</td>\n      <td>6</td>\n      <td>(question_climate_changed_before, question_why...</td>\n    </tr>\n    <tr>\n      <th>1</th>\n      <td>what_can_i_do_tipps_topic</td>\n      <td>0.800000</td>\n      <td>0.333333</td>\n      <td>0.470588</td>\n      <td>12</td>\n      <td>(question_what_can_i_do, language_error)</td>\n    </tr>\n    <tr>\n      <th>8</th>\n      <td>question_can_i_eat_meat</td>\n      <td>0.750000</td>\n      <td>0.600000</td>\n      <td>0.666667</td>\n      <td>5</td>\n      <td>(question_why_is_meat_bad_for_the_climate, que...</td>\n    </tr>\n    <tr>\n      <th>3</th>\n      <td>question_what_is_climate_change</td>\n      <td>0.875000</td>\n      <td>0.538462</td>\n      <td>0.666667</td>\n      <td>13</td>\n      <td>(language_error, question_what_causes_climate_...</td>\n    </tr>\n    <tr>\n      <th>28</th>\n      <td>question_why_is_meat_bad_for_the_climate</td>\n      <td>0.692308</td>\n      <td>0.692308</td>\n      <td>0.692308</td>\n      <td>13</td>\n      <td>(question_how_much_does_meat_pollute_the_clima...</td>\n    </tr>\n    <tr>\n      <th>17</th>\n      <td>question_activism_vs_politics</td>\n      <td>0.857143</td>\n      <td>0.600000</td>\n      <td>0.705882</td>\n      <td>10</td>\n      <td>(language_error)</td>\n    </tr>\n    <tr>\n      <th>9</th>\n      <td>question_what_can_i_do</td>\n      <td>0.705882</td>\n      <td>0.750000</td>\n      <td>0.727273</td>\n      <td>16</td>\n      <td>(language_error, what_can_i_do_tipps_topic)</td>\n    </tr>\n    <tr>\n      <th>5</th>\n      <td>question_why_does_the_politics_nothing</td>\n      <td>0.875000</td>\n      <td>0.636364</td>\n      <td>0.736842</td>\n      <td>11</td>\n      <td>(language_error)</td>\n    </tr>\n    <tr>\n      <th>15</th>\n      <td>question_can_we_stop_climate_change</td>\n      <td>1.000000</td>\n      <td>0.600000</td>\n      <td>0.750000</td>\n      <td>10</td>\n      <td>(language_error, question_is_the_climate_chang...</td>\n    </tr>\n    <tr>\n      <th>22</th>\n      <td>question_is_the_sun</td>\n      <td>0.900000</td>\n      <td>0.750000</td>\n      <td>0.818182</td>\n      <td>12</td>\n      <td>(language_error, question_its_not_bad)</td>\n    </tr>\n    <tr>\n      <th>25</th>\n      <td>question_what_causes_climate_change</td>\n      <td>0.944444</td>\n      <td>0.739130</td>\n      <td>0.829268</td>\n      <td>23</td>\n      <td>(language_error)</td>\n    </tr>\n    <tr>\n      <th>11</th>\n      <td>question_its_not_bad</td>\n      <td>0.833333</td>\n      <td>0.833333</td>\n      <td>0.833333</td>\n      <td>12</td>\n      <td>(language_error, question_what_are_the_consequ...</td>\n    </tr>\n    <tr>\n      <th>18</th>\n      <td>question_what_are_greenhouse_gases</td>\n      <td>1.000000</td>\n      <td>0.736842</td>\n      <td>0.848485</td>\n      <td>19</td>\n      <td>(language_error)</td>\n    </tr>\n    <tr>\n      <th>0</th>\n      <td>question_effect_to_the_climate</td>\n      <td>0.833333</td>\n      <td>0.882353</td>\n      <td>0.857143</td>\n      <td>17</td>\n      <td>(question_what_food_should_i_eat)</td>\n    </tr>\n    <tr>\n      <th>2</th>\n      <td>question_what_food_should_i_eat</td>\n      <td>0.800000</td>\n      <td>0.923077</td>\n      <td>0.857143</td>\n      <td>13</td>\n      <td>(question_effect_to_the_climate)</td>\n    </tr>\n    <tr>\n      <th>13</th>\n      <td>want_to_know_more</td>\n      <td>0.750000</td>\n      <td>1.000000</td>\n      <td>0.857143</td>\n      <td>6</td>\n      <td>()</td>\n    </tr>\n    <tr>\n      <th>19</th>\n      <td>question_is_climate_real</td>\n      <td>0.900000</td>\n      <td>0.818182</td>\n      <td>0.857143</td>\n      <td>11</td>\n      <td>(question_what_is_climate_change, language_error)</td>\n    </tr>\n    <tr>\n      <th>21</th>\n      <td>question_models_are_unreliable</td>\n      <td>0.900000</td>\n      <td>0.818182</td>\n      <td>0.857143</td>\n      <td>11</td>\n      <td>(language_error, question_its_not_bad)</td>\n    </tr>\n    <tr>\n      <th>20</th>\n      <td>i_eat_no_meat</td>\n      <td>0.866667</td>\n      <td>0.866667</td>\n      <td>0.866667</td>\n      <td>15</td>\n      <td>(question_why_is_meat_bad_for_the_climate, i_s...</td>\n    </tr>\n    <tr>\n      <th>27</th>\n      <td>i_eat_lot_meat</td>\n      <td>0.909091</td>\n      <td>0.833333</td>\n      <td>0.869565</td>\n      <td>24</td>\n      <td>(i_eat_no_meat, greet_again)</td>\n    </tr>\n    <tr>\n      <th>7</th>\n      <td>greet_again</td>\n      <td>0.875000</td>\n      <td>0.875000</td>\n      <td>0.875000</td>\n      <td>8</td>\n      <td>(question_activism_vs_politics)</td>\n    </tr>\n    <tr>\n      <th>12</th>\n      <td>question_climate_changed_before</td>\n      <td>0.846154</td>\n      <td>0.916667</td>\n      <td>0.880000</td>\n      <td>12</td>\n      <td>(question_is_the_sun)</td>\n    </tr>\n    <tr>\n      <th>23</th>\n      <td>i_some_times_eat_meat</td>\n      <td>0.894737</td>\n      <td>0.894737</td>\n      <td>0.894737</td>\n      <td>19</td>\n      <td>(i_eat_lot_meat)</td>\n    </tr>\n    <tr>\n      <th>4</th>\n      <td>question_how_much_does_meat_pollute_the_climate</td>\n      <td>0.900000</td>\n      <td>0.900000</td>\n      <td>0.900000</td>\n      <td>20</td>\n      <td>(question_why_is_meat_bad_for_the_climate, lan...</td>\n    </tr>\n    <tr>\n      <th>26</th>\n      <td>question_what_are_the_consequences_of_climate_...</td>\n      <td>0.952381</td>\n      <td>0.869565</td>\n      <td>0.909091</td>\n      <td>23</td>\n      <td>(language_error)</td>\n    </tr>\n    <tr>\n      <th>14</th>\n      <td>question_is_the_climate_change_caused_by_humans</td>\n      <td>0.909091</td>\n      <td>0.909091</td>\n      <td>0.909091</td>\n      <td>11</td>\n      <td>(question_why_is_meat_bad_for_the_climate)</td>\n    </tr>\n    <tr>\n      <th>16</th>\n      <td>question_what_can_i_ask</td>\n      <td>0.928571</td>\n      <td>0.928571</td>\n      <td>0.928571</td>\n      <td>14</td>\n      <td>(question_what_can_i_do)</td>\n    </tr>\n    <tr>\n      <th>10</th>\n      <td>question_temp_record_is_unreliable</td>\n      <td>1.000000</td>\n      <td>0.900000</td>\n      <td>0.947368</td>\n      <td>10</td>\n      <td>(language_error)</td>\n    </tr>\n    <tr>\n      <th>6</th>\n      <td>question_what_contribution_does_diet_make_to_c...</td>\n      <td>1.000000</td>\n      <td>1.000000</td>\n      <td>1.000000</td>\n      <td>10</td>\n      <td>()</td>\n    </tr>\n  </tbody>\n</table>\n</div>"
     },
     "execution_count": 12,
     "metadata": {},
     "output_type": "execute_result"
    }
   ],
   "source": [
    "df_intent_report_f1 = df_intent_report.sort_values(by=['F1-Score'])\n",
    "df_intent_report_f1"
   ],
   "metadata": {
    "collapsed": false,
    "ExecuteTime": {
     "start_time": "2023-03-31T11:10:32.211736Z",
     "end_time": "2023-03-31T11:10:32.214012Z"
    }
   }
  }
 ],
 "metadata": {
  "kernelspec": {
   "display_name": "Python 3 (ipykernel)",
   "language": "python",
   "name": "python3"
  },
  "language_info": {
   "codemirror_mode": {
    "name": "ipython",
    "version": 3
   },
   "file_extension": ".py",
   "mimetype": "text/x-python",
   "name": "python",
   "nbconvert_exporter": "python",
   "pygments_lexer": "ipython3",
   "version": "3.10.6"
  }
 },
 "nbformat": 4,
 "nbformat_minor": 1
}
