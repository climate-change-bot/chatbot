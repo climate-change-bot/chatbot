{
 "cells": [
  {
   "cell_type": "markdown",
   "metadata": {},
   "source": [
    "# Entity Classification"
   ]
  },
  {
   "cell_type": "code",
   "execution_count": 53,
   "metadata": {},
   "outputs": [],
   "source": [
    "import json\n",
    "import pandas as pd\n",
    "import seaborn as sns"
   ]
  },
  {
   "cell_type": "code",
   "execution_count": 5,
   "metadata": {},
   "outputs": [],
   "source": [
    "with open('results/DIETClassifier_report.json', 'r') as f:\n",
    "    entity_report = json.load(f)\n",
    "with open('results/DIETClassifier_errors.json', 'r') as f:\n",
    "    entity_errors = json.load(f)"
   ]
  },
  {
   "cell_type": "code",
   "execution_count": 37,
   "metadata": {},
   "outputs": [],
   "source": [
    "dict_report = {'Name': [], 'Precision': [], 'Recall': [], 'F1-Score': []}\n",
    "colors_report = []\n",
    "for key, value in entity_report.items():\n",
    "    if key != 'accuracy':\n",
    "        dict_report['Name'].append(key)\n",
    "        dict_report['Precision'].append(value['precision'])\n",
    "        dict_report['Recall'].append(value['recall'])\n",
    "        dict_report['F1-Score'].append(value['f1-score'])"
   ]
  },
  {
   "cell_type": "code",
   "execution_count": 56,
   "metadata": {},
   "outputs": [
    {
     "data": {
      "text/html": [
       "<style type=\"text/css\">\n",
       "#T_26fd8_row0_col1, #T_26fd8_row0_col3, #T_26fd8_row4_col2 {\n",
       "  background-color: #ff0000;\n",
       "  color: #f1f1f1;\n",
       "}\n",
       "#T_26fd8_row0_col2 {\n",
       "  background-color: #ff0505;\n",
       "  color: #f1f1f1;\n",
       "}\n",
       "#T_26fd8_row1_col1 {\n",
       "  background-color: #f4cfcf;\n",
       "  color: #000000;\n",
       "}\n",
       "#T_26fd8_row1_col2, #T_26fd8_row1_col3, #T_26fd8_row3_col1 {\n",
       "  background-color: #f3f0f0;\n",
       "  color: #000000;\n",
       "}\n",
       "#T_26fd8_row2_col1, #T_26fd8_row2_col2 {\n",
       "  background-color: #f7a5a5;\n",
       "  color: #000000;\n",
       "}\n",
       "#T_26fd8_row2_col3 {\n",
       "  background-color: #f6afaf;\n",
       "  color: #000000;\n",
       "}\n",
       "#T_26fd8_row3_col2 {\n",
       "  background-color: #f6b5b5;\n",
       "  color: #000000;\n",
       "}\n",
       "#T_26fd8_row3_col3 {\n",
       "  background-color: #f4d8d7;\n",
       "  color: #000000;\n",
       "}\n",
       "#T_26fd8_row4_col1 {\n",
       "  background-color: #f97070;\n",
       "  color: #f1f1f1;\n",
       "}\n",
       "#T_26fd8_row4_col3 {\n",
       "  background-color: #fe1919;\n",
       "  color: #f1f1f1;\n",
       "}\n",
       "#T_26fd8_row5_col1 {\n",
       "  background-color: #f6aeae;\n",
       "  color: #000000;\n",
       "}\n",
       "#T_26fd8_row5_col2, #T_26fd8_row7_col2 {\n",
       "  background-color: #f79696;\n",
       "  color: #000000;\n",
       "}\n",
       "#T_26fd8_row5_col3 {\n",
       "  background-color: #f6a8a8;\n",
       "  color: #000000;\n",
       "}\n",
       "#T_26fd8_row6_col1 {\n",
       "  background-color: #f89191;\n",
       "  color: #000000;\n",
       "}\n",
       "#T_26fd8_row6_col2 {\n",
       "  background-color: #f97676;\n",
       "  color: #f1f1f1;\n",
       "}\n",
       "#T_26fd8_row6_col3 {\n",
       "  background-color: #f88383;\n",
       "  color: #f1f1f1;\n",
       "}\n",
       "#T_26fd8_row7_col1 {\n",
       "  background-color: #f7a6a6;\n",
       "  color: #000000;\n",
       "}\n",
       "#T_26fd8_row7_col3 {\n",
       "  background-color: #f7a1a1;\n",
       "  color: #000000;\n",
       "}\n",
       "</style>\n",
       "<table id=\"T_26fd8\">\n",
       "  <thead>\n",
       "    <tr>\n",
       "      <th class=\"blank level0\" >&nbsp;</th>\n",
       "      <th id=\"T_26fd8_level0_col0\" class=\"col_heading level0 col0\" >Name</th>\n",
       "      <th id=\"T_26fd8_level0_col1\" class=\"col_heading level0 col1\" >Precision</th>\n",
       "      <th id=\"T_26fd8_level0_col2\" class=\"col_heading level0 col2\" >Recall</th>\n",
       "      <th id=\"T_26fd8_level0_col3\" class=\"col_heading level0 col3\" >F1-Score</th>\n",
       "    </tr>\n",
       "  </thead>\n",
       "  <tbody>\n",
       "    <tr>\n",
       "      <th id=\"T_26fd8_level0_row0\" class=\"row_heading level0 row0\" >0</th>\n",
       "      <td id=\"T_26fd8_row0_col0\" class=\"data row0 col0\" >topic</td>\n",
       "      <td id=\"T_26fd8_row0_col1\" class=\"data row0 col1\" >0.625000</td>\n",
       "      <td id=\"T_26fd8_row0_col2\" class=\"data row0 col2\" >0.454545</td>\n",
       "      <td id=\"T_26fd8_row0_col3\" class=\"data row0 col3\" >0.526316</td>\n",
       "    </tr>\n",
       "    <tr>\n",
       "      <th id=\"T_26fd8_level0_row1\" class=\"row_heading level0 row1\" >1</th>\n",
       "      <td id=\"T_26fd8_row1_col0\" class=\"data row1 col0\" >meat_type</td>\n",
       "      <td id=\"T_26fd8_row1_col1\" class=\"data row1 col1\" >0.947368</td>\n",
       "      <td id=\"T_26fd8_row1_col2\" class=\"data row1 col2\" >0.947368</td>\n",
       "      <td id=\"T_26fd8_row1_col3\" class=\"data row1 col3\" >0.947368</td>\n",
       "    </tr>\n",
       "    <tr>\n",
       "      <th id=\"T_26fd8_level0_row2\" class=\"row_heading level0 row2\" >2</th>\n",
       "      <td id=\"T_26fd8_row2_col0\" class=\"data row2 col0\" >greenhouse_gas</td>\n",
       "      <td id=\"T_26fd8_row2_col1\" class=\"data row2 col1\" >0.882353</td>\n",
       "      <td id=\"T_26fd8_row2_col2\" class=\"data row2 col2\" >0.789474</td>\n",
       "      <td id=\"T_26fd8_row2_col3\" class=\"data row2 col3\" >0.833333</td>\n",
       "    </tr>\n",
       "    <tr>\n",
       "      <th id=\"T_26fd8_level0_row3\" class=\"row_heading level0 row3\" >3</th>\n",
       "      <td id=\"T_26fd8_row3_col0\" class=\"data row3 col0\" >influence_type_on_climate</td>\n",
       "      <td id=\"T_26fd8_row3_col1\" class=\"data row3 col1\" >1.000000</td>\n",
       "      <td id=\"T_26fd8_row3_col2\" class=\"data row3 col2\" >0.823529</td>\n",
       "      <td id=\"T_26fd8_row3_col3\" class=\"data row3 col3\" >0.903226</td>\n",
       "    </tr>\n",
       "    <tr>\n",
       "      <th id=\"T_26fd8_level0_row4\" class=\"row_heading level0 row4\" >4</th>\n",
       "      <td id=\"T_26fd8_row4_col0\" class=\"data row4 col0\" >consequence_category</td>\n",
       "      <td id=\"T_26fd8_row4_col1\" class=\"data row4 col1\" >0.800000</td>\n",
       "      <td id=\"T_26fd8_row4_col2\" class=\"data row4 col2\" >0.444444</td>\n",
       "      <td id=\"T_26fd8_row4_col3\" class=\"data row4 col3\" >0.571429</td>\n",
       "    </tr>\n",
       "    <tr>\n",
       "      <th id=\"T_26fd8_level0_row5\" class=\"row_heading level0 row5\" >5</th>\n",
       "      <td id=\"T_26fd8_row5_col0\" class=\"data row5 col0\" >micro avg</td>\n",
       "      <td id=\"T_26fd8_row5_col1\" class=\"data row5 col1\" >0.896552</td>\n",
       "      <td id=\"T_26fd8_row5_col2\" class=\"data row5 col2\" >0.757282</td>\n",
       "      <td id=\"T_26fd8_row5_col3\" class=\"data row5 col3\" >0.821053</td>\n",
       "    </tr>\n",
       "    <tr>\n",
       "      <th id=\"T_26fd8_level0_row6\" class=\"row_heading level0 row6\" >6</th>\n",
       "      <td id=\"T_26fd8_row6_col0\" class=\"data row6 col0\" >macro avg</td>\n",
       "      <td id=\"T_26fd8_row6_col1\" class=\"data row6 col1\" >0.850944</td>\n",
       "      <td id=\"T_26fd8_row6_col2\" class=\"data row6 col2\" >0.691872</td>\n",
       "      <td id=\"T_26fd8_row6_col3\" class=\"data row6 col3\" >0.756334</td>\n",
       "    </tr>\n",
       "    <tr>\n",
       "      <th id=\"T_26fd8_level0_row7\" class=\"row_heading level0 row7\" >7</th>\n",
       "      <td id=\"T_26fd8_row7_col0\" class=\"data row7 col0\" >weighted avg</td>\n",
       "      <td id=\"T_26fd8_row7_col1\" class=\"data row7 col1\" >0.883881</td>\n",
       "      <td id=\"T_26fd8_row7_col2\" class=\"data row7 col2\" >0.757282</td>\n",
       "      <td id=\"T_26fd8_row7_col3\" class=\"data row7 col3\" >0.808382</td>\n",
       "    </tr>\n",
       "  </tbody>\n",
       "</table>\n"
      ],
      "text/plain": [
       "<pandas.io.formats.style.Styler at 0x7fb9eb0f80a0>"
      ]
     },
     "execution_count": 56,
     "metadata": {},
     "output_type": "execute_result"
    }
   ],
   "source": [
    "df_entity_report = pd.DataFrame(dict_report)\n",
    "\n",
    "cm = sns.light_palette(\"red\", reverse=True, as_cmap=True)\n",
    "df_entity_report.style.background_gradient(cmap = cm)"
   ]
  },
  {
   "cell_type": "markdown",
   "source": [
    "# Intent Classification"
   ],
   "metadata": {
    "collapsed": false
   }
  },
  {
   "cell_type": "code",
   "execution_count": 58,
   "outputs": [],
   "source": [
    "with open('results/intent_report.json', 'r') as f:\n",
    "    intent_report = json.load(f)\n",
    "with open('results/intent_errors.json', 'r') as f:\n",
    "    intent_errors = json.load(f)"
   ],
   "metadata": {
    "collapsed": false
   }
  },
  {
   "cell_type": "markdown",
   "source": [
    "![intent histogram](results/intent_histogram.png)"
   ],
   "metadata": {
    "collapsed": false
   }
  },
  {
   "cell_type": "markdown",
   "source": [
    "![intent confusion matrix](results/intent_confusion_matrix.png)"
   ],
   "metadata": {
    "collapsed": false
   }
  },
  {
   "cell_type": "code",
   "execution_count": 61,
   "outputs": [
    {
     "name": "stdout",
     "output_type": "stream",
     "text": [
      "Accuracy: 0.8644859813084113\n"
     ]
    }
   ],
   "source": [
    "print(f\"Accuracy: {intent_report['accuracy']}\")"
   ],
   "metadata": {
    "collapsed": false
   }
  },
  {
   "cell_type": "code",
   "execution_count": 63,
   "outputs": [
    {
     "name": "stdout",
     "output_type": "stream",
     "text": [
      "Weighted AVG-> Precision: 0.858388758403996, Recall: 0.8644859813084113, F1-Score: 0.8577324630916494\n"
     ]
    }
   ],
   "source": [
    "\n",
    "print(f\"Weighted AVG-> Precision: {intent_report['weighted avg']['precision']}, Recall: {intent_report['weighted avg']['recall']}, F1-Score: {intent_report['weighted avg']['f1-score']}\")"
   ],
   "metadata": {
    "collapsed": false
   }
  },
  {
   "cell_type": "code",
   "execution_count": 65,
   "outputs": [
    {
     "name": "stdout",
     "output_type": "stream",
     "text": [
      "Number of trainings samples: 428\n"
     ]
    }
   ],
   "source": [
    "print(f\"Number of trainings samples: {intent_report['weighted avg']['support']}\")"
   ],
   "metadata": {
    "collapsed": false
   }
  },
  {
   "cell_type": "code",
   "execution_count": 76,
   "outputs": [],
   "source": [
    "intent_report_dict = {'intent': [], 'Precision': [], 'Recall': [], 'F1-Score': [], 'Support': [], 'Confused': []}\n",
    "for key, value in intent_report.items():\n",
    "    if key != 'accuracy' and key != 'macro avg' and key != 'weighted avg' and key != 'micro avg':\n",
    "        intent_report_dict['intent'].append(key)\n",
    "        intent_report_dict['Precision'].append(value['precision'])\n",
    "        intent_report_dict['Recall'].append(value['recall'])\n",
    "        intent_report_dict['F1-Score'].append(value['f1-score'])\n",
    "        intent_report_dict['Support'].append(value['support'])\n",
    "\n",
    "        intent_report_dict['Confused'].append(value['confused_with'].keys())\n",
    "df_intent_report = pd.DataFrame(intent_report_dict)"
   ],
   "metadata": {
    "collapsed": false
   }
  },
  {
   "cell_type": "code",
   "execution_count": 71,
   "outputs": [
    {
     "name": "stdout",
     "output_type": "stream",
     "text": [
      "Number of intents: 35\n"
     ]
    }
   ],
   "source": [
    "print(f\"Number of intents: {len(df_intent_report)}\")"
   ],
   "metadata": {
    "collapsed": false
   }
  },
  {
   "cell_type": "code",
   "execution_count": 77,
   "outputs": [
    {
     "data": {
      "text/plain": "                                               intent  Precision    Recall  \\\n4                  question_temp_record_is_unreliable   0.833333  1.000000   \n14                                           chitchat   0.000000  0.000000   \n11                            question_can_i_eat_meat   0.714286  1.000000   \n2                                   want_to_know_more   1.000000  0.666667   \n24                     question_models_are_unreliable   1.000000  1.000000   \n22                               question_its_not_bad   1.000000  0.714286   \n17                     question_why_do_we_use_the_car   0.800000  1.000000   \n26                                        greet_again   0.875000  0.875000   \n8                             chitchat_you_are_boring   0.800000  1.000000   \n20                             question_why_do_we_fly   1.000000  1.000000   \n0                       chitchat_you_repeat_your_self   0.777778  0.777778   \n1     question_is_the_climate_change_caused_by_humans   1.000000  1.000000   \n12                question_can_we_stop_climate_change   1.000000  1.000000   \n13                      question_activism_vs_politics   1.000000  1.000000   \n29  question_what_contribution_does_diet_make_to_c...   0.666667  1.000000   \n31                    chitchat_do_you_know_everything   1.000000  1.000000   \n9                            question_is_climate_real   0.833333  0.909091   \n25                          what_can_i_do_tipps_topic   0.714286  0.454545   \n15             question_why_does_the_politics_nothing   0.916667  1.000000   \n30                                question_is_the_sun   0.916667  0.916667   \n6                     question_climate_changed_before   0.846154  0.916667   \n21                    question_what_is_climate_change   0.833333  0.833333   \n28           question_why_is_meat_bad_for_the_climate   0.666667  0.615385   \n16                    question_what_food_should_i_eat   0.769231  0.769231   \n7                             question_what_can_i_ask   1.000000  1.000000   \n18                                      i_eat_no_meat   0.866667  0.866667   \n19                          chitchat_you_know_nothing   0.866667  0.812500   \n32                     question_effect_to_the_climate   0.823529  0.823529   \n5                              question_what_can_i_do   0.833333  0.833333   \n23                              i_some_times_eat_meat   0.736842  0.736842   \n27                 question_what_are_greenhouse_gases   1.000000  0.894737   \n34    question_how_much_does_meat_pollute_the_climate   0.826087  0.950000   \n10  question_what_are_the_consequences_of_climate_...   0.913043  0.913043   \n33                question_what_causes_climate_change   0.913043  0.913043   \n3                                      i_eat_lot_meat   0.869565  0.833333   \n\n    F1-Score  Support                                           Confused  \n4   0.909091        5                                                 ()  \n14  0.000000        5  (what_can_i_do_tipps_topic, question_why_is_me...  \n11  0.833333        5                                                 ()  \n2   0.800000        6  (chitchat_you_know_nothing, what_can_i_do_tipp...  \n24  1.000000        6                                                 ()  \n22  0.833333        7  (question_climate_changed_before, question_wha...  \n17  0.888889        8                                                 ()  \n26  0.875000        8                         (question_is_climate_real)  \n8   0.888889        8                                                 ()  \n20  1.000000        9                                                 ()  \n0   0.777778        9                          (chitchat_you_are_boring)  \n1   1.000000        9                                                 ()  \n12  1.000000       10                                                 ()  \n13  1.000000       10                                                 ()  \n29  0.800000       10                                                 ()  \n31  1.000000       10                                                 ()  \n9   0.869565       11              (question_what_causes_climate_change)  \n25  0.555556       11  (question_what_can_i_do, question_can_i_eat_meat)  \n15  0.956522       11                                                 ()  \n30  0.916667       12                  (question_climate_changed_before)  \n6   0.880000       12                              (question_is_the_sun)  \n21  0.833333       12  (question_what_causes_climate_change, chitchat...  \n28  0.640000       13  (question_how_much_does_meat_pollute_the_clima...  \n16  0.769231       13  (question_effect_to_the_climate, question_what...  \n7   1.000000       14                                                 ()  \n18  0.866667       15  (i_some_times_eat_meat, question_why_does_the_...  \n19  0.838710       16  (question_why_do_we_use_the_car, chitchat_you_...  \n32  0.823529       17  (question_what_food_should_i_eat, question_wha...  \n5   0.833333       18  (question_why_is_meat_bad_for_the_climate, que...  \n23  0.736842       19                    (i_eat_lot_meat, i_eat_no_meat)  \n27  0.944444       19                  (question_what_is_climate_change)  \n34  0.883721       20         (question_why_is_meat_bad_for_the_climate)  \n10  0.913043       23  (question_why_is_meat_bad_for_the_climate, que...  \n33  0.913043       23  (question_is_climate_real, question_temp_recor...  \n3   0.851064       24                            (i_some_times_eat_meat)  ",
      "text/html": "<div>\n<style scoped>\n    .dataframe tbody tr th:only-of-type {\n        vertical-align: middle;\n    }\n\n    .dataframe tbody tr th {\n        vertical-align: top;\n    }\n\n    .dataframe thead th {\n        text-align: right;\n    }\n</style>\n<table border=\"1\" class=\"dataframe\">\n  <thead>\n    <tr style=\"text-align: right;\">\n      <th></th>\n      <th>intent</th>\n      <th>Precision</th>\n      <th>Recall</th>\n      <th>F1-Score</th>\n      <th>Support</th>\n      <th>Confused</th>\n    </tr>\n  </thead>\n  <tbody>\n    <tr>\n      <th>4</th>\n      <td>question_temp_record_is_unreliable</td>\n      <td>0.833333</td>\n      <td>1.000000</td>\n      <td>0.909091</td>\n      <td>5</td>\n      <td>()</td>\n    </tr>\n    <tr>\n      <th>14</th>\n      <td>chitchat</td>\n      <td>0.000000</td>\n      <td>0.000000</td>\n      <td>0.000000</td>\n      <td>5</td>\n      <td>(what_can_i_do_tipps_topic, question_why_is_me...</td>\n    </tr>\n    <tr>\n      <th>11</th>\n      <td>question_can_i_eat_meat</td>\n      <td>0.714286</td>\n      <td>1.000000</td>\n      <td>0.833333</td>\n      <td>5</td>\n      <td>()</td>\n    </tr>\n    <tr>\n      <th>2</th>\n      <td>want_to_know_more</td>\n      <td>1.000000</td>\n      <td>0.666667</td>\n      <td>0.800000</td>\n      <td>6</td>\n      <td>(chitchat_you_know_nothing, what_can_i_do_tipp...</td>\n    </tr>\n    <tr>\n      <th>24</th>\n      <td>question_models_are_unreliable</td>\n      <td>1.000000</td>\n      <td>1.000000</td>\n      <td>1.000000</td>\n      <td>6</td>\n      <td>()</td>\n    </tr>\n    <tr>\n      <th>22</th>\n      <td>question_its_not_bad</td>\n      <td>1.000000</td>\n      <td>0.714286</td>\n      <td>0.833333</td>\n      <td>7</td>\n      <td>(question_climate_changed_before, question_wha...</td>\n    </tr>\n    <tr>\n      <th>17</th>\n      <td>question_why_do_we_use_the_car</td>\n      <td>0.800000</td>\n      <td>1.000000</td>\n      <td>0.888889</td>\n      <td>8</td>\n      <td>()</td>\n    </tr>\n    <tr>\n      <th>26</th>\n      <td>greet_again</td>\n      <td>0.875000</td>\n      <td>0.875000</td>\n      <td>0.875000</td>\n      <td>8</td>\n      <td>(question_is_climate_real)</td>\n    </tr>\n    <tr>\n      <th>8</th>\n      <td>chitchat_you_are_boring</td>\n      <td>0.800000</td>\n      <td>1.000000</td>\n      <td>0.888889</td>\n      <td>8</td>\n      <td>()</td>\n    </tr>\n    <tr>\n      <th>20</th>\n      <td>question_why_do_we_fly</td>\n      <td>1.000000</td>\n      <td>1.000000</td>\n      <td>1.000000</td>\n      <td>9</td>\n      <td>()</td>\n    </tr>\n    <tr>\n      <th>0</th>\n      <td>chitchat_you_repeat_your_self</td>\n      <td>0.777778</td>\n      <td>0.777778</td>\n      <td>0.777778</td>\n      <td>9</td>\n      <td>(chitchat_you_are_boring)</td>\n    </tr>\n    <tr>\n      <th>1</th>\n      <td>question_is_the_climate_change_caused_by_humans</td>\n      <td>1.000000</td>\n      <td>1.000000</td>\n      <td>1.000000</td>\n      <td>9</td>\n      <td>()</td>\n    </tr>\n    <tr>\n      <th>12</th>\n      <td>question_can_we_stop_climate_change</td>\n      <td>1.000000</td>\n      <td>1.000000</td>\n      <td>1.000000</td>\n      <td>10</td>\n      <td>()</td>\n    </tr>\n    <tr>\n      <th>13</th>\n      <td>question_activism_vs_politics</td>\n      <td>1.000000</td>\n      <td>1.000000</td>\n      <td>1.000000</td>\n      <td>10</td>\n      <td>()</td>\n    </tr>\n    <tr>\n      <th>29</th>\n      <td>question_what_contribution_does_diet_make_to_c...</td>\n      <td>0.666667</td>\n      <td>1.000000</td>\n      <td>0.800000</td>\n      <td>10</td>\n      <td>()</td>\n    </tr>\n    <tr>\n      <th>31</th>\n      <td>chitchat_do_you_know_everything</td>\n      <td>1.000000</td>\n      <td>1.000000</td>\n      <td>1.000000</td>\n      <td>10</td>\n      <td>()</td>\n    </tr>\n    <tr>\n      <th>9</th>\n      <td>question_is_climate_real</td>\n      <td>0.833333</td>\n      <td>0.909091</td>\n      <td>0.869565</td>\n      <td>11</td>\n      <td>(question_what_causes_climate_change)</td>\n    </tr>\n    <tr>\n      <th>25</th>\n      <td>what_can_i_do_tipps_topic</td>\n      <td>0.714286</td>\n      <td>0.454545</td>\n      <td>0.555556</td>\n      <td>11</td>\n      <td>(question_what_can_i_do, question_can_i_eat_meat)</td>\n    </tr>\n    <tr>\n      <th>15</th>\n      <td>question_why_does_the_politics_nothing</td>\n      <td>0.916667</td>\n      <td>1.000000</td>\n      <td>0.956522</td>\n      <td>11</td>\n      <td>()</td>\n    </tr>\n    <tr>\n      <th>30</th>\n      <td>question_is_the_sun</td>\n      <td>0.916667</td>\n      <td>0.916667</td>\n      <td>0.916667</td>\n      <td>12</td>\n      <td>(question_climate_changed_before)</td>\n    </tr>\n    <tr>\n      <th>6</th>\n      <td>question_climate_changed_before</td>\n      <td>0.846154</td>\n      <td>0.916667</td>\n      <td>0.880000</td>\n      <td>12</td>\n      <td>(question_is_the_sun)</td>\n    </tr>\n    <tr>\n      <th>21</th>\n      <td>question_what_is_climate_change</td>\n      <td>0.833333</td>\n      <td>0.833333</td>\n      <td>0.833333</td>\n      <td>12</td>\n      <td>(question_what_causes_climate_change, chitchat...</td>\n    </tr>\n    <tr>\n      <th>28</th>\n      <td>question_why_is_meat_bad_for_the_climate</td>\n      <td>0.666667</td>\n      <td>0.615385</td>\n      <td>0.640000</td>\n      <td>13</td>\n      <td>(question_how_much_does_meat_pollute_the_clima...</td>\n    </tr>\n    <tr>\n      <th>16</th>\n      <td>question_what_food_should_i_eat</td>\n      <td>0.769231</td>\n      <td>0.769231</td>\n      <td>0.769231</td>\n      <td>13</td>\n      <td>(question_effect_to_the_climate, question_what...</td>\n    </tr>\n    <tr>\n      <th>7</th>\n      <td>question_what_can_i_ask</td>\n      <td>1.000000</td>\n      <td>1.000000</td>\n      <td>1.000000</td>\n      <td>14</td>\n      <td>()</td>\n    </tr>\n    <tr>\n      <th>18</th>\n      <td>i_eat_no_meat</td>\n      <td>0.866667</td>\n      <td>0.866667</td>\n      <td>0.866667</td>\n      <td>15</td>\n      <td>(i_some_times_eat_meat, question_why_does_the_...</td>\n    </tr>\n    <tr>\n      <th>19</th>\n      <td>chitchat_you_know_nothing</td>\n      <td>0.866667</td>\n      <td>0.812500</td>\n      <td>0.838710</td>\n      <td>16</td>\n      <td>(question_why_do_we_use_the_car, chitchat_you_...</td>\n    </tr>\n    <tr>\n      <th>32</th>\n      <td>question_effect_to_the_climate</td>\n      <td>0.823529</td>\n      <td>0.823529</td>\n      <td>0.823529</td>\n      <td>17</td>\n      <td>(question_what_food_should_i_eat, question_wha...</td>\n    </tr>\n    <tr>\n      <th>5</th>\n      <td>question_what_can_i_do</td>\n      <td>0.833333</td>\n      <td>0.833333</td>\n      <td>0.833333</td>\n      <td>18</td>\n      <td>(question_why_is_meat_bad_for_the_climate, que...</td>\n    </tr>\n    <tr>\n      <th>23</th>\n      <td>i_some_times_eat_meat</td>\n      <td>0.736842</td>\n      <td>0.736842</td>\n      <td>0.736842</td>\n      <td>19</td>\n      <td>(i_eat_lot_meat, i_eat_no_meat)</td>\n    </tr>\n    <tr>\n      <th>27</th>\n      <td>question_what_are_greenhouse_gases</td>\n      <td>1.000000</td>\n      <td>0.894737</td>\n      <td>0.944444</td>\n      <td>19</td>\n      <td>(question_what_is_climate_change)</td>\n    </tr>\n    <tr>\n      <th>34</th>\n      <td>question_how_much_does_meat_pollute_the_climate</td>\n      <td>0.826087</td>\n      <td>0.950000</td>\n      <td>0.883721</td>\n      <td>20</td>\n      <td>(question_why_is_meat_bad_for_the_climate)</td>\n    </tr>\n    <tr>\n      <th>10</th>\n      <td>question_what_are_the_consequences_of_climate_...</td>\n      <td>0.913043</td>\n      <td>0.913043</td>\n      <td>0.913043</td>\n      <td>23</td>\n      <td>(question_why_is_meat_bad_for_the_climate, que...</td>\n    </tr>\n    <tr>\n      <th>33</th>\n      <td>question_what_causes_climate_change</td>\n      <td>0.913043</td>\n      <td>0.913043</td>\n      <td>0.913043</td>\n      <td>23</td>\n      <td>(question_is_climate_real, question_temp_recor...</td>\n    </tr>\n    <tr>\n      <th>3</th>\n      <td>i_eat_lot_meat</td>\n      <td>0.869565</td>\n      <td>0.833333</td>\n      <td>0.851064</td>\n      <td>24</td>\n      <td>(i_some_times_eat_meat)</td>\n    </tr>\n  </tbody>\n</table>\n</div>"
     },
     "execution_count": 77,
     "metadata": {},
     "output_type": "execute_result"
    }
   ],
   "source": [
    "df_intent_report_support = df_intent_report.sort_values(by=['Support'])\n",
    "df_intent_report_support"
   ],
   "metadata": {
    "collapsed": false
   }
  },
  {
   "cell_type": "code",
   "execution_count": 78,
   "outputs": [
    {
     "data": {
      "text/plain": "                                               intent  Precision    Recall  \\\n14                                           chitchat   0.000000  0.000000   \n25                          what_can_i_do_tipps_topic   0.714286  0.454545   \n28           question_why_is_meat_bad_for_the_climate   0.666667  0.615385   \n23                              i_some_times_eat_meat   0.736842  0.736842   \n16                    question_what_food_should_i_eat   0.769231  0.769231   \n0                       chitchat_you_repeat_your_self   0.777778  0.777778   \n2                                   want_to_know_more   1.000000  0.666667   \n29  question_what_contribution_does_diet_make_to_c...   0.666667  1.000000   \n32                     question_effect_to_the_climate   0.823529  0.823529   \n11                            question_can_i_eat_meat   0.714286  1.000000   \n22                               question_its_not_bad   1.000000  0.714286   \n5                              question_what_can_i_do   0.833333  0.833333   \n21                    question_what_is_climate_change   0.833333  0.833333   \n19                          chitchat_you_know_nothing   0.866667  0.812500   \n3                                      i_eat_lot_meat   0.869565  0.833333   \n18                                      i_eat_no_meat   0.866667  0.866667   \n9                            question_is_climate_real   0.833333  0.909091   \n26                                        greet_again   0.875000  0.875000   \n6                     question_climate_changed_before   0.846154  0.916667   \n34    question_how_much_does_meat_pollute_the_climate   0.826087  0.950000   \n8                             chitchat_you_are_boring   0.800000  1.000000   \n17                     question_why_do_we_use_the_car   0.800000  1.000000   \n4                  question_temp_record_is_unreliable   0.833333  1.000000   \n10  question_what_are_the_consequences_of_climate_...   0.913043  0.913043   \n33                question_what_causes_climate_change   0.913043  0.913043   \n30                                question_is_the_sun   0.916667  0.916667   \n27                 question_what_are_greenhouse_gases   1.000000  0.894737   \n15             question_why_does_the_politics_nothing   0.916667  1.000000   \n20                             question_why_do_we_fly   1.000000  1.000000   \n13                      question_activism_vs_politics   1.000000  1.000000   \n12                question_can_we_stop_climate_change   1.000000  1.000000   \n24                     question_models_are_unreliable   1.000000  1.000000   \n7                             question_what_can_i_ask   1.000000  1.000000   \n31                    chitchat_do_you_know_everything   1.000000  1.000000   \n1     question_is_the_climate_change_caused_by_humans   1.000000  1.000000   \n\n    F1-Score  Support                                           Confused  \n14  0.000000        5  (what_can_i_do_tipps_topic, question_why_is_me...  \n25  0.555556       11  (question_what_can_i_do, question_can_i_eat_meat)  \n28  0.640000       13  (question_how_much_does_meat_pollute_the_clima...  \n23  0.736842       19                    (i_eat_lot_meat, i_eat_no_meat)  \n16  0.769231       13  (question_effect_to_the_climate, question_what...  \n0   0.777778        9                          (chitchat_you_are_boring)  \n2   0.800000        6  (chitchat_you_know_nothing, what_can_i_do_tipp...  \n29  0.800000       10                                                 ()  \n32  0.823529       17  (question_what_food_should_i_eat, question_wha...  \n11  0.833333        5                                                 ()  \n22  0.833333        7  (question_climate_changed_before, question_wha...  \n5   0.833333       18  (question_why_is_meat_bad_for_the_climate, que...  \n21  0.833333       12  (question_what_causes_climate_change, chitchat...  \n19  0.838710       16  (question_why_do_we_use_the_car, chitchat_you_...  \n3   0.851064       24                            (i_some_times_eat_meat)  \n18  0.866667       15  (i_some_times_eat_meat, question_why_does_the_...  \n9   0.869565       11              (question_what_causes_climate_change)  \n26  0.875000        8                         (question_is_climate_real)  \n6   0.880000       12                              (question_is_the_sun)  \n34  0.883721       20         (question_why_is_meat_bad_for_the_climate)  \n8   0.888889        8                                                 ()  \n17  0.888889        8                                                 ()  \n4   0.909091        5                                                 ()  \n10  0.913043       23  (question_why_is_meat_bad_for_the_climate, que...  \n33  0.913043       23  (question_is_climate_real, question_temp_recor...  \n30  0.916667       12                  (question_climate_changed_before)  \n27  0.944444       19                  (question_what_is_climate_change)  \n15  0.956522       11                                                 ()  \n20  1.000000        9                                                 ()  \n13  1.000000       10                                                 ()  \n12  1.000000       10                                                 ()  \n24  1.000000        6                                                 ()  \n7   1.000000       14                                                 ()  \n31  1.000000       10                                                 ()  \n1   1.000000        9                                                 ()  ",
      "text/html": "<div>\n<style scoped>\n    .dataframe tbody tr th:only-of-type {\n        vertical-align: middle;\n    }\n\n    .dataframe tbody tr th {\n        vertical-align: top;\n    }\n\n    .dataframe thead th {\n        text-align: right;\n    }\n</style>\n<table border=\"1\" class=\"dataframe\">\n  <thead>\n    <tr style=\"text-align: right;\">\n      <th></th>\n      <th>intent</th>\n      <th>Precision</th>\n      <th>Recall</th>\n      <th>F1-Score</th>\n      <th>Support</th>\n      <th>Confused</th>\n    </tr>\n  </thead>\n  <tbody>\n    <tr>\n      <th>14</th>\n      <td>chitchat</td>\n      <td>0.000000</td>\n      <td>0.000000</td>\n      <td>0.000000</td>\n      <td>5</td>\n      <td>(what_can_i_do_tipps_topic, question_why_is_me...</td>\n    </tr>\n    <tr>\n      <th>25</th>\n      <td>what_can_i_do_tipps_topic</td>\n      <td>0.714286</td>\n      <td>0.454545</td>\n      <td>0.555556</td>\n      <td>11</td>\n      <td>(question_what_can_i_do, question_can_i_eat_meat)</td>\n    </tr>\n    <tr>\n      <th>28</th>\n      <td>question_why_is_meat_bad_for_the_climate</td>\n      <td>0.666667</td>\n      <td>0.615385</td>\n      <td>0.640000</td>\n      <td>13</td>\n      <td>(question_how_much_does_meat_pollute_the_clima...</td>\n    </tr>\n    <tr>\n      <th>23</th>\n      <td>i_some_times_eat_meat</td>\n      <td>0.736842</td>\n      <td>0.736842</td>\n      <td>0.736842</td>\n      <td>19</td>\n      <td>(i_eat_lot_meat, i_eat_no_meat)</td>\n    </tr>\n    <tr>\n      <th>16</th>\n      <td>question_what_food_should_i_eat</td>\n      <td>0.769231</td>\n      <td>0.769231</td>\n      <td>0.769231</td>\n      <td>13</td>\n      <td>(question_effect_to_the_climate, question_what...</td>\n    </tr>\n    <tr>\n      <th>0</th>\n      <td>chitchat_you_repeat_your_self</td>\n      <td>0.777778</td>\n      <td>0.777778</td>\n      <td>0.777778</td>\n      <td>9</td>\n      <td>(chitchat_you_are_boring)</td>\n    </tr>\n    <tr>\n      <th>2</th>\n      <td>want_to_know_more</td>\n      <td>1.000000</td>\n      <td>0.666667</td>\n      <td>0.800000</td>\n      <td>6</td>\n      <td>(chitchat_you_know_nothing, what_can_i_do_tipp...</td>\n    </tr>\n    <tr>\n      <th>29</th>\n      <td>question_what_contribution_does_diet_make_to_c...</td>\n      <td>0.666667</td>\n      <td>1.000000</td>\n      <td>0.800000</td>\n      <td>10</td>\n      <td>()</td>\n    </tr>\n    <tr>\n      <th>32</th>\n      <td>question_effect_to_the_climate</td>\n      <td>0.823529</td>\n      <td>0.823529</td>\n      <td>0.823529</td>\n      <td>17</td>\n      <td>(question_what_food_should_i_eat, question_wha...</td>\n    </tr>\n    <tr>\n      <th>11</th>\n      <td>question_can_i_eat_meat</td>\n      <td>0.714286</td>\n      <td>1.000000</td>\n      <td>0.833333</td>\n      <td>5</td>\n      <td>()</td>\n    </tr>\n    <tr>\n      <th>22</th>\n      <td>question_its_not_bad</td>\n      <td>1.000000</td>\n      <td>0.714286</td>\n      <td>0.833333</td>\n      <td>7</td>\n      <td>(question_climate_changed_before, question_wha...</td>\n    </tr>\n    <tr>\n      <th>5</th>\n      <td>question_what_can_i_do</td>\n      <td>0.833333</td>\n      <td>0.833333</td>\n      <td>0.833333</td>\n      <td>18</td>\n      <td>(question_why_is_meat_bad_for_the_climate, que...</td>\n    </tr>\n    <tr>\n      <th>21</th>\n      <td>question_what_is_climate_change</td>\n      <td>0.833333</td>\n      <td>0.833333</td>\n      <td>0.833333</td>\n      <td>12</td>\n      <td>(question_what_causes_climate_change, chitchat...</td>\n    </tr>\n    <tr>\n      <th>19</th>\n      <td>chitchat_you_know_nothing</td>\n      <td>0.866667</td>\n      <td>0.812500</td>\n      <td>0.838710</td>\n      <td>16</td>\n      <td>(question_why_do_we_use_the_car, chitchat_you_...</td>\n    </tr>\n    <tr>\n      <th>3</th>\n      <td>i_eat_lot_meat</td>\n      <td>0.869565</td>\n      <td>0.833333</td>\n      <td>0.851064</td>\n      <td>24</td>\n      <td>(i_some_times_eat_meat)</td>\n    </tr>\n    <tr>\n      <th>18</th>\n      <td>i_eat_no_meat</td>\n      <td>0.866667</td>\n      <td>0.866667</td>\n      <td>0.866667</td>\n      <td>15</td>\n      <td>(i_some_times_eat_meat, question_why_does_the_...</td>\n    </tr>\n    <tr>\n      <th>9</th>\n      <td>question_is_climate_real</td>\n      <td>0.833333</td>\n      <td>0.909091</td>\n      <td>0.869565</td>\n      <td>11</td>\n      <td>(question_what_causes_climate_change)</td>\n    </tr>\n    <tr>\n      <th>26</th>\n      <td>greet_again</td>\n      <td>0.875000</td>\n      <td>0.875000</td>\n      <td>0.875000</td>\n      <td>8</td>\n      <td>(question_is_climate_real)</td>\n    </tr>\n    <tr>\n      <th>6</th>\n      <td>question_climate_changed_before</td>\n      <td>0.846154</td>\n      <td>0.916667</td>\n      <td>0.880000</td>\n      <td>12</td>\n      <td>(question_is_the_sun)</td>\n    </tr>\n    <tr>\n      <th>34</th>\n      <td>question_how_much_does_meat_pollute_the_climate</td>\n      <td>0.826087</td>\n      <td>0.950000</td>\n      <td>0.883721</td>\n      <td>20</td>\n      <td>(question_why_is_meat_bad_for_the_climate)</td>\n    </tr>\n    <tr>\n      <th>8</th>\n      <td>chitchat_you_are_boring</td>\n      <td>0.800000</td>\n      <td>1.000000</td>\n      <td>0.888889</td>\n      <td>8</td>\n      <td>()</td>\n    </tr>\n    <tr>\n      <th>17</th>\n      <td>question_why_do_we_use_the_car</td>\n      <td>0.800000</td>\n      <td>1.000000</td>\n      <td>0.888889</td>\n      <td>8</td>\n      <td>()</td>\n    </tr>\n    <tr>\n      <th>4</th>\n      <td>question_temp_record_is_unreliable</td>\n      <td>0.833333</td>\n      <td>1.000000</td>\n      <td>0.909091</td>\n      <td>5</td>\n      <td>()</td>\n    </tr>\n    <tr>\n      <th>10</th>\n      <td>question_what_are_the_consequences_of_climate_...</td>\n      <td>0.913043</td>\n      <td>0.913043</td>\n      <td>0.913043</td>\n      <td>23</td>\n      <td>(question_why_is_meat_bad_for_the_climate, que...</td>\n    </tr>\n    <tr>\n      <th>33</th>\n      <td>question_what_causes_climate_change</td>\n      <td>0.913043</td>\n      <td>0.913043</td>\n      <td>0.913043</td>\n      <td>23</td>\n      <td>(question_is_climate_real, question_temp_recor...</td>\n    </tr>\n    <tr>\n      <th>30</th>\n      <td>question_is_the_sun</td>\n      <td>0.916667</td>\n      <td>0.916667</td>\n      <td>0.916667</td>\n      <td>12</td>\n      <td>(question_climate_changed_before)</td>\n    </tr>\n    <tr>\n      <th>27</th>\n      <td>question_what_are_greenhouse_gases</td>\n      <td>1.000000</td>\n      <td>0.894737</td>\n      <td>0.944444</td>\n      <td>19</td>\n      <td>(question_what_is_climate_change)</td>\n    </tr>\n    <tr>\n      <th>15</th>\n      <td>question_why_does_the_politics_nothing</td>\n      <td>0.916667</td>\n      <td>1.000000</td>\n      <td>0.956522</td>\n      <td>11</td>\n      <td>()</td>\n    </tr>\n    <tr>\n      <th>20</th>\n      <td>question_why_do_we_fly</td>\n      <td>1.000000</td>\n      <td>1.000000</td>\n      <td>1.000000</td>\n      <td>9</td>\n      <td>()</td>\n    </tr>\n    <tr>\n      <th>13</th>\n      <td>question_activism_vs_politics</td>\n      <td>1.000000</td>\n      <td>1.000000</td>\n      <td>1.000000</td>\n      <td>10</td>\n      <td>()</td>\n    </tr>\n    <tr>\n      <th>12</th>\n      <td>question_can_we_stop_climate_change</td>\n      <td>1.000000</td>\n      <td>1.000000</td>\n      <td>1.000000</td>\n      <td>10</td>\n      <td>()</td>\n    </tr>\n    <tr>\n      <th>24</th>\n      <td>question_models_are_unreliable</td>\n      <td>1.000000</td>\n      <td>1.000000</td>\n      <td>1.000000</td>\n      <td>6</td>\n      <td>()</td>\n    </tr>\n    <tr>\n      <th>7</th>\n      <td>question_what_can_i_ask</td>\n      <td>1.000000</td>\n      <td>1.000000</td>\n      <td>1.000000</td>\n      <td>14</td>\n      <td>()</td>\n    </tr>\n    <tr>\n      <th>31</th>\n      <td>chitchat_do_you_know_everything</td>\n      <td>1.000000</td>\n      <td>1.000000</td>\n      <td>1.000000</td>\n      <td>10</td>\n      <td>()</td>\n    </tr>\n    <tr>\n      <th>1</th>\n      <td>question_is_the_climate_change_caused_by_humans</td>\n      <td>1.000000</td>\n      <td>1.000000</td>\n      <td>1.000000</td>\n      <td>9</td>\n      <td>()</td>\n    </tr>\n  </tbody>\n</table>\n</div>"
     },
     "execution_count": 78,
     "metadata": {},
     "output_type": "execute_result"
    }
   ],
   "source": [
    "df_intent_report_f1 = df_intent_report.sort_values(by=['F1-Score'])\n",
    "df_intent_report_f1"
   ],
   "metadata": {
    "collapsed": false
   }
  }
 ],
 "metadata": {
  "kernelspec": {
   "display_name": "Python 3 (ipykernel)",
   "language": "python",
   "name": "python3"
  },
  "language_info": {
   "codemirror_mode": {
    "name": "ipython",
    "version": 3
   },
   "file_extension": ".py",
   "mimetype": "text/x-python",
   "name": "python",
   "nbconvert_exporter": "python",
   "pygments_lexer": "ipython3",
   "version": "3.10.6"
  }
 },
 "nbformat": 4,
 "nbformat_minor": 1
}
